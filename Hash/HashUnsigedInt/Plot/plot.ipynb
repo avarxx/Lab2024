{
 "cells": [
  {
   "cell_type": "code",
   "execution_count": null,
   "metadata": {},
   "outputs": [],
   "source": [
    "import matplotlib.pyplot as plt\n",
    "\n",
    "def plot_histogram(filename, title):\n",
    "    hashes = []\n",
    "    collisions = []\n",
    "    with open(filename, 'r') as f:\n",
    "        for line in f:\n",
    "            hash_val, collision_count = map(int, line.split())\n",
    "            hashes.append(hash_val)\n",
    "            collisions.append(collision_count)\n",
    "\n",
    "    plt.bar(hashes, collisions)\n",
    "    plt.title(title)\n",
    "    plt.xlabel('Хэш-значение')\n",
    "    plt.ylabel('Число коллизий')\n",
    "    plt.show()\n",
    "\n",
    "def main():\n",
    "  plot_histogram('collisions_remainder.txt', 'Остаток от деления')\n",
    "  plot_histogram('collisions_bit.txt', 'Битовое представление')\n",
    "  plot_histogram('collisions_multiplication.txt', 'Метод умножения')\n",
    "\n",
    "if __name__ == \"__main__\":\n",
    "    main()\n"
   ]
  }
 ],
 "metadata": {
  "language_info": {
   "name": "python"
  }
 },
 "nbformat": 4,
 "nbformat_minor": 2
}
