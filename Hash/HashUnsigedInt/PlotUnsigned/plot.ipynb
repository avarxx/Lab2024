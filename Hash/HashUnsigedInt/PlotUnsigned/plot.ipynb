{
 "cells": [
  {
   "cell_type": "code",
   "execution_count": 2,
   "metadata": {},
   "outputs": [
    {
     "ename": "ModuleNotFoundError",
     "evalue": "No module named 'matplotlib'",
     "output_type": "error",
     "traceback": [
      "\u001b[1;31m---------------------------------------------------------------------------\u001b[0m",
      "\u001b[1;31mModuleNotFoundError\u001b[0m                       Traceback (most recent call last)",
      "Cell \u001b[1;32mIn[2], line 1\u001b[0m\n\u001b[1;32m----> 1\u001b[0m \u001b[38;5;28;01mimport\u001b[39;00m \u001b[38;5;21;01mmatplotlib\u001b[39;00m\u001b[38;5;21;01m.\u001b[39;00m\u001b[38;5;21;01mpyplot\u001b[39;00m \u001b[38;5;28;01mas\u001b[39;00m \u001b[38;5;21;01mplt\u001b[39;00m\n\u001b[0;32m      3\u001b[0m \u001b[38;5;28;01mdef\u001b[39;00m \u001b[38;5;21mplot_histogram\u001b[39m(filename, title):\n\u001b[0;32m      4\u001b[0m     hashes \u001b[38;5;241m=\u001b[39m []\n",
      "\u001b[1;31mModuleNotFoundError\u001b[0m: No module named 'matplotlib'"
     ]
    }
   ],
   "source": [
    "import matplotlib.pyplot as plt\n",
    "\n",
    "def plot_histogram(filename, title):\n",
    "    hashes = []\n",
    "    collisions = []\n",
    "    with open(filename, 'r') as f:\n",
    "        for line in f:\n",
    "            hash_val, collision_count = map(int, line.split())\n",
    "            hashes.append(hash_val)\n",
    "            collisions.append(collision_count)\n",
    "\n",
    "    plt.bar(hashes, collisions)\n",
    "    plt.title(title)\n",
    "    plt.xlabel('Хэш-значение')\n",
    "    plt.ylabel('Число коллизий')\n",
    "    plt.show()\n",
    "\n",
    "def main():\n",
    "  plot_histogram('collisions_remainder.txt', 'Остаток от деления')\n",
    "  plot_histogram('collisions_bit.txt', 'Битовое представление')\n",
    "  plot_histogram('collisions_multiplication.txt', 'Метод умножения')\n",
    "\n",
    "if __name__ == \"__main__\":\n",
    "    main()\n"
   ]
  }
 ],
 "metadata": {
  "kernelspec": {
   "display_name": "Python 3",
   "language": "python",
   "name": "python3"
  },
  "language_info": {
   "codemirror_mode": {
    "name": "ipython",
    "version": 3
   },
   "file_extension": ".py",
   "mimetype": "text/x-python",
   "name": "python",
   "nbconvert_exporter": "python",
   "pygments_lexer": "ipython3",
   "version": "3.11.9"
  }
 },
 "nbformat": 4,
 "nbformat_minor": 2
}
