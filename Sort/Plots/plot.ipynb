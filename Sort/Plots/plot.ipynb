{
 "cells": [
  {
   "cell_type": "code",
   "execution_count": null,
   "metadata": {},
   "outputs": [],
   "source": [
    "import matplotlib.pyplot as plt\n",
    "\n",
    "def read_data(file_paths):\n",
    "    data = [{\"x\": [], \"y\": []} for _ in range(len(file_paths))]\n",
    "    for idx, file_path in enumerate(file_paths):\n",
    "        with open(file_path, \"r\") as file:\n",
    "            for line in file:\n",
    "                x, y = map(float, line.strip().split())\n",
    "                data[idx][\"x\"].append(x)\n",
    "                data[idx][\"y\"].append(y)\n",
    "    return data\n",
    "\n",
    "def plot_graph(data, titles):\n",
    "    plt.figure(figsize=(10, 6))\n",
    "    for idx, dataset in enumerate(data):\n",
    "        plt.plot(dataset[\"x\"], dataset[\"y\"], marker='o', linestyle='-', linewidth=1, markersize=5, label=f'{titles[idx]}')\n",
    "    plt.title(\"График данных\", fontsize=15)\n",
    "    plt.xlabel(\"Размер массива\", fontsize=15)\n",
    "    plt.ylabel(\"Время\", fontsize=15)\n",
    "    plt.grid(True, linestyle='--', alpha=0.7)\n",
    "    plt.xticks(fontsize=12)\n",
    "    plt.yticks(fontsize=12)\n",
    "    plt.legend()\n",
    "    plt.tight_layout()\n",
    "    plt.show()\n",
    "\n",
    "file_paths = [\"BubbleSort.out\", \"insertionSort.out\", \"selectionSort.out\", \"shellSort.out\"]\n",
    "titles = [\"Babble\", \"Insertion\", \"Selection\", \"Shell\"]\n",
    "data = read_data(file_paths)\n",
    "plot_graph(data, titles)\n",
    "\n"
   ]
  },
  {
   "cell_type": "code",
   "execution_count": null,
   "metadata": {},
   "outputs": [],
   "source": [
    "from google.colab import files\n",
    "\n",
    "uploaded = files.upload()"
   ]
  }
 ],
 "metadata": {
  "language_info": {
   "name": "python"
  }
 },
 "nbformat": 4,
 "nbformat_minor": 2
}
